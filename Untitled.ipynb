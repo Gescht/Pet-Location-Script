{
 "cells": [
  {
   "cell_type": "code",
   "execution_count": 77,
   "id": "3eb14442-fcdf-49e2-9a06-3a4e6d1d584d",
   "metadata": {},
   "outputs": [
    {
     "name": "stdout",
     "output_type": "stream",
     "text": [
      "\n",
      "\t\t\t\tvar g_mapperData = {8:{0:{ count: 1, coords: [[78.56,77.18],[76.15,74.85],[70.1,73.53],[72.79,72.96],[73.99,66.45],[82.9,65.93],[82.36,64.56],[81.13,61.1],[19.96,59.38],[40.83,54.19],[49.59,46.52],[51.95,45.51],[84.92,44.04],[46.6,42.98],[55.65,42.86],[28.57,42.26],[34.81,41.99],[44.14,41.17],[31.72,40.74],[53.62,39.33],[78.73,38.85],[76.73,36.43],[81.56,36.12],[56.1,35.99],[39.52,33.31],[72.2,30.97],[68.72,24.81],[70.68,23.67],[75.66,17.49]] }},11:{0:{ count: 1, coords: [[65.01,62.69],[44.72,62.47],[62.91,51.57],[58.88,47.58],[57.14,46.05],[53.63,41.51],[22.69,36.72],[36.04,34.27],[32.26,30.68],[50.94,27.96],[21.84,22.51],[32.58,16.3]] }},14:{0:{ count: 1, coords: [[35.78,52.15],[39.86,48.57],[38.64,47.73],[39.36,46.03],[35.03,44.31],[38.31,42.39],[37.58,42.24],[44.35,41.11],[38.2,39.41]] }},1637:{0:{ count: 2, coords: [[31.5,68.3],[74.94,41.8]] },1:{ count: 2, coords: [[41.46,17.13]] }}};\n",
      "\t\t\t\t\tvar myMapper = new Mapper({parent: 'mapper-generic'});                         \n",
      "\t\t\t\t\tgE(ge('locations'), 'a')[0].onclick();\n",
      "\t\t\t\t\n"
     ]
    }
   ],
   "source": [
    "from bs4 import BeautifulSoup\n",
    "import requests\n",
    "url = 'https://mop-shoot.tauri.hu/?npc=61367'\n",
    "soup = BeautifulSoup(requests.get(url).text, \"html\").find_all(\"script\")\n",
    "for elemnt in soup:\n",
    "    data = elemnt.text\n",
    "    if \"g_mapperData\" in data: \n",
    "        print(data)"
   ]
  }
 ],
 "metadata": {
  "kernelspec": {
   "display_name": "Python 3 (ipykernel)",
   "language": "python",
   "name": "python3"
  },
  "language_info": {
   "codemirror_mode": {
    "name": "ipython",
    "version": 3
   },
   "file_extension": ".py",
   "mimetype": "text/x-python",
   "name": "python",
   "nbconvert_exporter": "python",
   "pygments_lexer": "ipython3",
   "version": "3.12.2"
  }
 },
 "nbformat": 4,
 "nbformat_minor": 5
}
