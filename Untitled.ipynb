{
 "cells": [
  {
   "cell_type": "code",
   "execution_count": 11,
   "id": "3eb14442-fcdf-49e2-9a06-3a4e6d1d584d",
   "metadata": {},
   "outputs": [
    {
     "name": "stdout",
     "output_type": "stream",
     "text": [
      "3   17\n",
      "16   181\n",
      "41   32\n",
      "12   30\n",
      "47   26\n",
      "17   11\n",
      "11   40\n",
      "19   793\n",
      "1   27\n",
      "8   38\n",
      "45   16\n",
      "40   39\n",
      "51   28\n",
      "44   36\n",
      "4   19\n",
      "46   29\n",
      "28   22\n",
      "33   37\n",
      "38   35\n",
      "10   34\n",
      "15   141\n",
      "14   4\n"
     ]
    }
   ],
   "source": [
    "import pickle\n",
    "\n",
    "#zoneID: mapID\n",
    "#zoneID is used on the webpage\n",
    "#mapID will be used by the addon\n",
    "petZones = {}\n",
    "\n",
    "with open('petZones.pkl', 'rb') as f:\n",
    "\tloaded_dict = pickle.load(f)\n",
    "\tfor zoneID, mapID in loaded_dict.items():\n",
    "\t\tpetZones[zoneID] = mapID\n",
    "\n",
    "for zoneID, mapID in petZones.items():\n",
    "\t\tprint(zoneID,\" \",mapID)"
   ]
  }
 ],
 "metadata": {
  "kernelspec": {
   "display_name": "Python 3 (ipykernel)",
   "language": "python",
   "name": "python3"
  },
  "language_info": {
   "codemirror_mode": {
    "name": "ipython",
    "version": 3
   },
   "file_extension": ".py",
   "mimetype": "text/x-python",
   "name": "python",
   "nbconvert_exporter": "python",
   "pygments_lexer": "ipython3",
   "version": "3.12.2"
  }
 },
 "nbformat": 4,
 "nbformat_minor": 5
}
