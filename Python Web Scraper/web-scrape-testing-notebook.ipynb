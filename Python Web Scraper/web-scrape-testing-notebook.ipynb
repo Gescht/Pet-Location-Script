{
 "cells": [
  {
   "cell_type": "code",
   "execution_count": 14,
   "id": "3eb14442-fcdf-49e2-9a06-3a4e6d1d584d",
   "metadata": {},
   "outputs": [],
   "source": [
    "import pickle\n",
    "\n",
    "#the final dictionary with correct syntax\n",
    "masterPetDataDict = {}\n",
    "\n",
    "#load zoneID:mapID dictionary from file\n",
    "with open(\"Python Web Scraper\\\\petLocationData.pkl\", \"rb\") as f:\n",
    "    masterPetDataDict = pickle.load(f)\n",
    "\n",
    "with open(\"Python Web Scraper\\\\PetAddonData.lua\", \"a\") as the_file:\n",
    "    the_file.write(\"{\\n\")\n",
    "    for mapID, mapData in masterPetDataDict.items():\n",
    "        the_file.write(\"\\t[\"+str(mapID)+\"]={\\n\")\n",
    "        for petID, petData in masterPetDataDict[mapID].items():\n",
    "            the_file.write(\"\\t\\t[\"+str(petID)+\"]={\\n\")\n",
    "            the_file.write(\"\\t\\t\\t\")\n",
    "            for layerID, layerData in masterPetDataDict[mapID][petID].items():\n",
    "                the_file.write(\"[\"+str(layerID)+\"]=\\\"\"+layerData+\"\\\",\")\n",
    "            the_file.write(\"},\\n\")\n",
    "        the_file.write(\"\\t},\\n\")\n",
    "    the_file.write(\"}\")"
   ]
  }
 ],
 "metadata": {
  "kernelspec": {
   "display_name": "Python 3 (ipykernel)",
   "language": "python",
   "name": "python3"
  },
  "language_info": {
   "codemirror_mode": {
    "name": "ipython",
    "version": 3
   },
   "file_extension": ".py",
   "mimetype": "text/x-python",
   "name": "python",
   "nbconvert_exporter": "python",
   "pygments_lexer": "ipython3",
   "version": "3.12.2"
  }
 },
 "nbformat": 4,
 "nbformat_minor": 5
}
